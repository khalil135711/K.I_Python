{
 "cells": [
  {
   "cell_type": "code",
   "execution_count": 1,
   "id": "8082b251",
   "metadata": {},
   "outputs": [],
   "source": [
    "import pandas as pd\n",
    "import matplotlib.pyplot as plt\n",
    "import numpy as np\n",
    "\n",
    "from sklearn.model_selection import GridSearchCV\n",
    "from sklearn.svm import *\n",
    "from sklearn.tree import DecisionTreeRegressor\n",
    "from sklearn.preprocessing import PolynomialFeatures\n",
    "from sklearn.metrics import mean_absolute_error\n",
    "from sklearn.metrics import mean_squared_error\n",
    "from sklearn.preprocessing import StandardScaler\n",
    "from sklearn.pipeline import Pipeline\n",
    "from sklearn.linear_model import LinearRegression\n",
    "from sklearn.ensemble import RandomForestRegressor\n",
    "from sklearn.model_selection import train_test_split"
   ]
  },
  {
   "cell_type": "code",
   "execution_count": 2,
   "id": "74a42be0",
   "metadata": {},
   "outputs": [],
   "source": [
    "df = pd.read_csv(\"DataET0.csv\",sep=\";\")\n"
   ]
  },
  {
   "cell_type": "code",
   "execution_count": 3,
   "id": "e751cba4",
   "metadata": {},
   "outputs": [
    {
     "data": {
      "text/html": [
       "<div>\n",
       "<style scoped>\n",
       "    .dataframe tbody tr th:only-of-type {\n",
       "        vertical-align: middle;\n",
       "    }\n",
       "\n",
       "    .dataframe tbody tr th {\n",
       "        vertical-align: top;\n",
       "    }\n",
       "\n",
       "    .dataframe thead th {\n",
       "        text-align: right;\n",
       "    }\n",
       "</style>\n",
       "<table border=\"1\" class=\"dataframe\">\n",
       "  <thead>\n",
       "    <tr style=\"text-align: right;\">\n",
       "      <th></th>\n",
       "      <th>Date/heure</th>\n",
       "      <th>moy_Temp[°C]</th>\n",
       "      <th>max_Temp[°C]</th>\n",
       "      <th>min_Temp[°C]</th>\n",
       "      <th>moy_DewPoint[°C]</th>\n",
       "      <th>min_DewPoint[°C]</th>\n",
       "      <th>moy_SolarRadiation[W/m2]</th>\n",
       "      <th>moy_VPD[kPa]</th>\n",
       "      <th>min_VPD[kPa]</th>\n",
       "      <th>moy_RelativeHumidity[%]</th>\n",
       "      <th>max_RelativeHumidity[%]</th>\n",
       "      <th>min_RelativeHumidity[%]</th>\n",
       "      <th>Somme_Precipitation[mm]</th>\n",
       "      <th>moy_WindSpeed[m/s]</th>\n",
       "      <th>max_WindSpeed[m/s]</th>\n",
       "      <th>max_WindSpeedMax[m/s]</th>\n",
       "      <th>moy_WindDirection[deg]</th>\n",
       "      <th>dernier_WindDirection[deg]</th>\n",
       "      <th>ETP quotidien [mm]</th>\n",
       "    </tr>\n",
       "  </thead>\n",
       "  <tbody>\n",
       "    <tr>\n",
       "      <th>0</th>\n",
       "      <td>05/08/2022 00:00</td>\n",
       "      <td>24,73</td>\n",
       "      <td>35,08</td>\n",
       "      <td>15,11</td>\n",
       "      <td>12,4</td>\n",
       "      <td>8,8</td>\n",
       "      <td>361</td>\n",
       "      <td>1,9</td>\n",
       "      <td>0,3</td>\n",
       "      <td>51,87</td>\n",
       "      <td>83,3</td>\n",
       "      <td>22</td>\n",
       "      <td>0</td>\n",
       "      <td>0,5</td>\n",
       "      <td>2,1</td>\n",
       "      <td>4,4</td>\n",
       "      <td>NaN</td>\n",
       "      <td>NaN</td>\n",
       "      <td>NaN</td>\n",
       "    </tr>\n",
       "    <tr>\n",
       "      <th>1</th>\n",
       "      <td>04/08/2022 00:00</td>\n",
       "      <td>25,26</td>\n",
       "      <td>35,79</td>\n",
       "      <td>16,4</td>\n",
       "      <td>14,6</td>\n",
       "      <td>8</td>\n",
       "      <td>288</td>\n",
       "      <td>1,73</td>\n",
       "      <td>0</td>\n",
       "      <td>59,06</td>\n",
       "      <td>99,54</td>\n",
       "      <td>19,84</td>\n",
       "      <td>0</td>\n",
       "      <td>0,6</td>\n",
       "      <td>1,7</td>\n",
       "      <td>5,3</td>\n",
       "      <td>NaN</td>\n",
       "      <td>NaN</td>\n",
       "      <td>5</td>\n",
       "    </tr>\n",
       "    <tr>\n",
       "      <th>2</th>\n",
       "      <td>03/08/2022 00:00</td>\n",
       "      <td>28,37</td>\n",
       "      <td>36,71</td>\n",
       "      <td>19,8</td>\n",
       "      <td>12,3</td>\n",
       "      <td>7,4</td>\n",
       "      <td>285</td>\n",
       "      <td>2,56</td>\n",
       "      <td>0,95</td>\n",
       "      <td>38,43</td>\n",
       "      <td>65,76</td>\n",
       "      <td>23,6</td>\n",
       "      <td>0</td>\n",
       "      <td>0,7</td>\n",
       "      <td>2,6</td>\n",
       "      <td>5,3</td>\n",
       "      <td>NaN</td>\n",
       "      <td>NaN</td>\n",
       "      <td>5,3</td>\n",
       "    </tr>\n",
       "    <tr>\n",
       "      <th>3</th>\n",
       "      <td>02/08/2022 00:00</td>\n",
       "      <td>32,17</td>\n",
       "      <td>43,43</td>\n",
       "      <td>19,68</td>\n",
       "      <td>0,9</td>\n",
       "      <td>-4,7</td>\n",
       "      <td>296</td>\n",
       "      <td>4,55</td>\n",
       "      <td>1,7</td>\n",
       "      <td>16,44</td>\n",
       "      <td>38,56</td>\n",
       "      <td>5,23</td>\n",
       "      <td>0</td>\n",
       "      <td>0,6</td>\n",
       "      <td>2,3</td>\n",
       "      <td>6,6</td>\n",
       "      <td>NaN</td>\n",
       "      <td>NaN</td>\n",
       "      <td>5,3</td>\n",
       "    </tr>\n",
       "    <tr>\n",
       "      <th>4</th>\n",
       "      <td>01/08/2022 00:00</td>\n",
       "      <td>32,3</td>\n",
       "      <td>41,9</td>\n",
       "      <td>21,26</td>\n",
       "      <td>8,7</td>\n",
       "      <td>1,5</td>\n",
       "      <td>290</td>\n",
       "      <td>3,97</td>\n",
       "      <td>1,39</td>\n",
       "      <td>26,68</td>\n",
       "      <td>47,56</td>\n",
       "      <td>9,52</td>\n",
       "      <td>0</td>\n",
       "      <td>0,6</td>\n",
       "      <td>2,7</td>\n",
       "      <td>6,7</td>\n",
       "      <td>NaN</td>\n",
       "      <td>NaN</td>\n",
       "      <td>5,5</td>\n",
       "    </tr>\n",
       "    <tr>\n",
       "      <th>...</th>\n",
       "      <td>...</td>\n",
       "      <td>...</td>\n",
       "      <td>...</td>\n",
       "      <td>...</td>\n",
       "      <td>...</td>\n",
       "      <td>...</td>\n",
       "      <td>...</td>\n",
       "      <td>...</td>\n",
       "      <td>...</td>\n",
       "      <td>...</td>\n",
       "      <td>...</td>\n",
       "      <td>...</td>\n",
       "      <td>...</td>\n",
       "      <td>...</td>\n",
       "      <td>...</td>\n",
       "      <td>...</td>\n",
       "      <td>...</td>\n",
       "      <td>...</td>\n",
       "      <td>...</td>\n",
       "    </tr>\n",
       "    <tr>\n",
       "      <th>1776</th>\n",
       "      <td>04/09/2017 00:00</td>\n",
       "      <td>26,19</td>\n",
       "      <td>27,22</td>\n",
       "      <td>25,43</td>\n",
       "      <td>19</td>\n",
       "      <td>17,9</td>\n",
       "      <td>0</td>\n",
       "      <td>1,18</td>\n",
       "      <td>1,04</td>\n",
       "      <td>65,12</td>\n",
       "      <td>68,01</td>\n",
       "      <td>57,11</td>\n",
       "      <td>5,4</td>\n",
       "      <td>0</td>\n",
       "      <td>0,5</td>\n",
       "      <td>NaN</td>\n",
       "      <td>NaN</td>\n",
       "      <td>NaN</td>\n",
       "      <td>0,6</td>\n",
       "    </tr>\n",
       "    <tr>\n",
       "      <th>1777</th>\n",
       "      <td>06/06/2017 00:00</td>\n",
       "      <td>26,21</td>\n",
       "      <td>26,42</td>\n",
       "      <td>25,51</td>\n",
       "      <td>17,4</td>\n",
       "      <td>17,2</td>\n",
       "      <td>0</td>\n",
       "      <td>1,4</td>\n",
       "      <td>1,28</td>\n",
       "      <td>58,5</td>\n",
       "      <td>60,93</td>\n",
       "      <td>57,18</td>\n",
       "      <td>0</td>\n",
       "      <td>0</td>\n",
       "      <td>0</td>\n",
       "      <td>NaN</td>\n",
       "      <td>299.0</td>\n",
       "      <td>299.0</td>\n",
       "      <td>NaN</td>\n",
       "    </tr>\n",
       "    <tr>\n",
       "      <th>1778</th>\n",
       "      <td>05/06/2017 00:00</td>\n",
       "      <td>26,31</td>\n",
       "      <td>26,47</td>\n",
       "      <td>26,1</td>\n",
       "      <td>16</td>\n",
       "      <td>15,3</td>\n",
       "      <td>0</td>\n",
       "      <td>1,58</td>\n",
       "      <td>1,48</td>\n",
       "      <td>53,43</td>\n",
       "      <td>56,89</td>\n",
       "      <td>51,64</td>\n",
       "      <td>0</td>\n",
       "      <td>0</td>\n",
       "      <td>0</td>\n",
       "      <td>NaN</td>\n",
       "      <td>228.0</td>\n",
       "      <td>228.0</td>\n",
       "      <td>NaN</td>\n",
       "    </tr>\n",
       "    <tr>\n",
       "      <th>1779</th>\n",
       "      <td>10/04/2017 00:00</td>\n",
       "      <td>23,58</td>\n",
       "      <td>23,92</td>\n",
       "      <td>22,89</td>\n",
       "      <td>14,9</td>\n",
       "      <td>14,1</td>\n",
       "      <td>2</td>\n",
       "      <td>1,2</td>\n",
       "      <td>1,13</td>\n",
       "      <td>58,56</td>\n",
       "      <td>61,86</td>\n",
       "      <td>56,71</td>\n",
       "      <td>0</td>\n",
       "      <td>NaN</td>\n",
       "      <td>NaN</td>\n",
       "      <td>NaN</td>\n",
       "      <td>NaN</td>\n",
       "      <td>NaN</td>\n",
       "      <td>NaN</td>\n",
       "    </tr>\n",
       "    <tr>\n",
       "      <th>1780</th>\n",
       "      <td>10/11/2016 00:00</td>\n",
       "      <td>21,87</td>\n",
       "      <td>22,6</td>\n",
       "      <td>20,94</td>\n",
       "      <td>3,8</td>\n",
       "      <td>3,4</td>\n",
       "      <td>93</td>\n",
       "      <td>1,81</td>\n",
       "      <td>1,66</td>\n",
       "      <td>30,93</td>\n",
       "      <td>32,73</td>\n",
       "      <td>29,15</td>\n",
       "      <td>0</td>\n",
       "      <td>NaN</td>\n",
       "      <td>NaN</td>\n",
       "      <td>NaN</td>\n",
       "      <td>NaN</td>\n",
       "      <td>NaN</td>\n",
       "      <td>NaN</td>\n",
       "    </tr>\n",
       "  </tbody>\n",
       "</table>\n",
       "<p>1781 rows × 19 columns</p>\n",
       "</div>"
      ],
      "text/plain": [
       "            Date/heure moy_Temp[°C] max_Temp[°C] min_Temp[°C]  \\\n",
       "0     05/08/2022 00:00        24,73        35,08        15,11   \n",
       "1     04/08/2022 00:00        25,26        35,79         16,4   \n",
       "2     03/08/2022 00:00        28,37        36,71         19,8   \n",
       "3     02/08/2022 00:00        32,17        43,43        19,68   \n",
       "4     01/08/2022 00:00         32,3         41,9        21,26   \n",
       "...                ...          ...          ...          ...   \n",
       "1776  04/09/2017 00:00        26,19        27,22        25,43   \n",
       "1777  06/06/2017 00:00        26,21        26,42        25,51   \n",
       "1778  05/06/2017 00:00        26,31        26,47         26,1   \n",
       "1779  10/04/2017 00:00        23,58        23,92        22,89   \n",
       "1780  10/11/2016 00:00        21,87         22,6        20,94   \n",
       "\n",
       "     moy_DewPoint[°C] min_DewPoint[°C]  moy_SolarRadiation[W/m2] moy_VPD[kPa]  \\\n",
       "0                12,4              8,8                       361          1,9   \n",
       "1                14,6                8                       288         1,73   \n",
       "2                12,3              7,4                       285         2,56   \n",
       "3                 0,9             -4,7                       296         4,55   \n",
       "4                 8,7              1,5                       290         3,97   \n",
       "...               ...              ...                       ...          ...   \n",
       "1776               19             17,9                         0         1,18   \n",
       "1777             17,4             17,2                         0          1,4   \n",
       "1778               16             15,3                         0         1,58   \n",
       "1779             14,9             14,1                         2          1,2   \n",
       "1780              3,8              3,4                        93         1,81   \n",
       "\n",
       "     min_VPD[kPa] moy_RelativeHumidity[%] max_RelativeHumidity[%]  \\\n",
       "0             0,3                   51,87                    83,3   \n",
       "1               0                   59,06                   99,54   \n",
       "2            0,95                   38,43                   65,76   \n",
       "3             1,7                   16,44                   38,56   \n",
       "4            1,39                   26,68                   47,56   \n",
       "...           ...                     ...                     ...   \n",
       "1776         1,04                   65,12                   68,01   \n",
       "1777         1,28                    58,5                   60,93   \n",
       "1778         1,48                   53,43                   56,89   \n",
       "1779         1,13                   58,56                   61,86   \n",
       "1780         1,66                   30,93                   32,73   \n",
       "\n",
       "     min_RelativeHumidity[%] Somme_Precipitation[mm] moy_WindSpeed[m/s]  \\\n",
       "0                         22                       0                0,5   \n",
       "1                      19,84                       0                0,6   \n",
       "2                       23,6                       0                0,7   \n",
       "3                       5,23                       0                0,6   \n",
       "4                       9,52                       0                0,6   \n",
       "...                      ...                     ...                ...   \n",
       "1776                   57,11                     5,4                  0   \n",
       "1777                   57,18                       0                  0   \n",
       "1778                   51,64                       0                  0   \n",
       "1779                   56,71                       0                NaN   \n",
       "1780                   29,15                       0                NaN   \n",
       "\n",
       "     max_WindSpeed[m/s] max_WindSpeedMax[m/s]  moy_WindDirection[deg]  \\\n",
       "0                   2,1                   4,4                     NaN   \n",
       "1                   1,7                   5,3                     NaN   \n",
       "2                   2,6                   5,3                     NaN   \n",
       "3                   2,3                   6,6                     NaN   \n",
       "4                   2,7                   6,7                     NaN   \n",
       "...                 ...                   ...                     ...   \n",
       "1776                0,5                   NaN                     NaN   \n",
       "1777                  0                   NaN                   299.0   \n",
       "1778                  0                   NaN                   228.0   \n",
       "1779                NaN                   NaN                     NaN   \n",
       "1780                NaN                   NaN                     NaN   \n",
       "\n",
       "      dernier_WindDirection[deg] ETP quotidien [mm]  \n",
       "0                            NaN                NaN  \n",
       "1                            NaN                  5  \n",
       "2                            NaN                5,3  \n",
       "3                            NaN                5,3  \n",
       "4                            NaN                5,5  \n",
       "...                          ...                ...  \n",
       "1776                         NaN                0,6  \n",
       "1777                       299.0                NaN  \n",
       "1778                       228.0                NaN  \n",
       "1779                         NaN                NaN  \n",
       "1780                         NaN                NaN  \n",
       "\n",
       "[1781 rows x 19 columns]"
      ]
     },
     "execution_count": 3,
     "metadata": {},
     "output_type": "execute_result"
    }
   ],
   "source": [
    "df"
   ]
  },
  {
   "cell_type": "code",
   "execution_count": 4,
   "id": "6868f0da",
   "metadata": {},
   "outputs": [
    {
     "name": "stdout",
     "output_type": "stream",
     "text": [
      " NaN en  Date/heure  =  0\n",
      " NaN en  moy_Temp[°C]  =  0\n",
      " NaN en  max_Temp[°C]  =  0\n",
      " NaN en  min_Temp[°C]  =  0\n",
      " NaN en  moy_DewPoint[°C]  =  0\n",
      " NaN en  min_DewPoint[°C]  =  0\n",
      " NaN en  moy_SolarRadiation[W/m2]  =  0\n",
      " NaN en  moy_VPD[kPa]  =  0\n",
      " NaN en  min_VPD[kPa]  =  0\n",
      " NaN en  moy_RelativeHumidity[%]  =  0\n",
      " NaN en  max_RelativeHumidity[%]  =  0\n",
      " NaN en  min_RelativeHumidity[%]  =  0\n",
      " NaN en  Somme_Precipitation[mm]  =  0\n",
      " NaN en  moy_WindSpeed[m/s]  =  2\n",
      " NaN en  max_WindSpeed[m/s]  =  2\n",
      " NaN en  max_WindSpeedMax[m/s]  =  103\n",
      " NaN en  moy_WindDirection[deg]  =  1779\n",
      " NaN en  dernier_WindDirection[deg]  =  1779\n",
      " NaN en  ETP quotidien [mm]  =  6\n"
     ]
    }
   ],
   "source": [
    "\n",
    "for i in df.columns:\n",
    "    sum = df[i].isnull().sum() \n",
    "    print(\" NaN en \" ,i ,\" = \",sum)"
   ]
  },
  {
   "cell_type": "code",
   "execution_count": 5,
   "id": "991eaa45",
   "metadata": {},
   "outputs": [],
   "source": [
    "for i in df.columns:\n",
    "  somme = df[i].isnull().sum() \n",
    "  if(somme != 0):\n",
    "    mediane = pd.to_numeric(df[i],errors='coerce').mean()\n",
    "    df[i] = df[i].fillna(mediane) "
   ]
  },
  {
   "cell_type": "code",
   "execution_count": 6,
   "id": "33ad3797",
   "metadata": {},
   "outputs": [
    {
     "name": "stdout",
     "output_type": "stream",
     "text": [
      " NaN en  Date/heure  =  0\n",
      " NaN en  moy_Temp[°C]  =  0\n",
      " NaN en  max_Temp[°C]  =  0\n",
      " NaN en  min_Temp[°C]  =  0\n",
      " NaN en  moy_DewPoint[°C]  =  0\n",
      " NaN en  min_DewPoint[°C]  =  0\n",
      " NaN en  moy_SolarRadiation[W/m2]  =  0\n",
      " NaN en  moy_VPD[kPa]  =  0\n",
      " NaN en  min_VPD[kPa]  =  0\n",
      " NaN en  moy_RelativeHumidity[%]  =  0\n",
      " NaN en  max_RelativeHumidity[%]  =  0\n",
      " NaN en  min_RelativeHumidity[%]  =  0\n",
      " NaN en  Somme_Precipitation[mm]  =  0\n",
      " NaN en  moy_WindSpeed[m/s]  =  0\n",
      " NaN en  max_WindSpeed[m/s]  =  0\n",
      " NaN en  max_WindSpeedMax[m/s]  =  0\n",
      " NaN en  moy_WindDirection[deg]  =  0\n",
      " NaN en  dernier_WindDirection[deg]  =  0\n",
      " NaN en  ETP quotidien [mm]  =  0\n"
     ]
    }
   ],
   "source": [
    "nbrc=df.columns\n",
    "for i in nbrc:\n",
    "    sum = df[i].isnull().sum() \n",
    "    print(\" NaN en \" ,i ,\" = \",sum)"
   ]
  },
  {
   "cell_type": "markdown",
   "id": "52d5f145",
   "metadata": {},
   "source": [
    "# 1.5 affichage des types des colonne de notre dataFrame \"DataET0\""
   ]
  },
  {
   "cell_type": "code",
   "execution_count": 7,
   "id": "2a6b7ccb",
   "metadata": {},
   "outputs": [
    {
     "name": "stdout",
     "output_type": "stream",
     "text": [
      " Type de la Colunne Date/heure est : object\n",
      " Type de la Colunne moy_Temp[°C] est : object\n",
      " Type de la Colunne max_Temp[°C] est : object\n",
      " Type de la Colunne min_Temp[°C] est : object\n",
      " Type de la Colunne moy_DewPoint[°C] est : object\n",
      " Type de la Colunne min_DewPoint[°C] est : object\n",
      " Type de la Colunne moy_SolarRadiation[W/m2] est : int64\n",
      " Type de la Colunne moy_VPD[kPa] est : object\n",
      " Type de la Colunne min_VPD[kPa] est : object\n",
      " Type de la Colunne moy_RelativeHumidity[%] est : object\n",
      " Type de la Colunne max_RelativeHumidity[%] est : object\n",
      " Type de la Colunne min_RelativeHumidity[%] est : object\n",
      " Type de la Colunne Somme_Precipitation[mm] est : object\n",
      " Type de la Colunne moy_WindSpeed[m/s] est : object\n",
      " Type de la Colunne max_WindSpeed[m/s] est : object\n",
      " Type de la Colunne max_WindSpeedMax[m/s] est : object\n",
      " Type de la Colunne moy_WindDirection[deg] est : float64\n",
      " Type de la Colunne dernier_WindDirection[deg] est : float64\n",
      " Type de la Colunne ETP quotidien [mm] est : object\n"
     ]
    }
   ],
   "source": [
    "for i in df.columns:\n",
    "    print(\" Type de la Colunne\" , i , \"est :\" ,df[i].dtype )"
   ]
  },
  {
   "cell_type": "markdown",
   "id": "63d6dacd",
   "metadata": {},
   "source": [
    "# clean dataFrame :"
   ]
  },
  {
   "cell_type": "code",
   "execution_count": 8,
   "id": "60ba68db",
   "metadata": {},
   "outputs": [],
   "source": [
    "data_frame=df\n",
    "def get_columns_type(data_frame:pd.DataFrame):\n",
    "  for columnName in data_frame.columns:\n",
    "    print(f\"Type de {columnName} est {data_frame[columnName].dtype}\")\n"
   ]
  },
  {
   "cell_type": "code",
   "execution_count": 9,
   "id": "c8ddc55e",
   "metadata": {},
   "outputs": [],
   "source": [
    "\n",
    "def replace_columns_type(data_frame:pd.DataFrame,target_column:str,replacement:str):\n",
    "  for columnName in data_frame.columns:\n",
    "    if data_frame[columnName].dtype == target_column:\n",
    "      data_frame[columnName] = data_frame[columnName].astype(replacement)\n",
    "  return data_frame"
   ]
  },
  {
   "cell_type": "code",
   "execution_count": 10,
   "id": "dc53b155",
   "metadata": {},
   "outputs": [],
   "source": [
    "def convertissement_Nece(data_frame:pd.DataFrame):\n",
    "  data_frame = data_frame.drop(\"dernier_WindDirection[deg]\",axis=1)\n",
    "  data_frame = data_frame.drop(\"moy_WindDirection[deg]\",axis=1)\n",
    "  data_frame = data_frame.drop(\"Date/heure\",axis=1)\n",
    "  for columnName in data_frame.columns:\n",
    "    for index in range(len(data_frame[columnName])):\n",
    "      formated_str = str(data_frame[columnName][index]).replace(\",\",\".\")\n",
    "      data_frame[columnName].iloc[index] = formated_str\n",
    "  return data_frame"
   ]
  },
  {
   "cell_type": "code",
   "execution_count": null,
   "id": "a9f87796",
   "metadata": {},
   "outputs": [
    {
     "name": "stdout",
     "output_type": "stream",
     "text": [
      "type initial des donnees est :\n",
      "Type de Date/heure est object\n",
      "Type de moy_Temp[°C] est object\n",
      "Type de max_Temp[°C] est object\n",
      "Type de min_Temp[°C] est object\n",
      "Type de moy_DewPoint[°C] est object\n",
      "Type de min_DewPoint[°C] est object\n",
      "Type de moy_SolarRadiation[W/m2] est int64\n",
      "Type de moy_VPD[kPa] est object\n",
      "Type de min_VPD[kPa] est object\n",
      "Type de moy_RelativeHumidity[%] est object\n",
      "Type de max_RelativeHumidity[%] est object\n",
      "Type de min_RelativeHumidity[%] est object\n",
      "Type de Somme_Precipitation[mm] est object\n",
      "Type de moy_WindSpeed[m/s] est object\n",
      "Type de max_WindSpeed[m/s] est object\n",
      "Type de max_WindSpeedMax[m/s] est object\n",
      "Type de moy_WindDirection[deg] est float64\n",
      "Type de dernier_WindDirection[deg] est float64\n",
      "Type de ETP quotidien [mm] est object\n",
      "nouveau type des donnes devient :\n"
     ]
    },
    {
     "name": "stderr",
     "output_type": "stream",
     "text": [
      "C:\\Users\\ZenBook\\AppData\\Local\\Temp\\ipykernel_7928\\4241333366.py:8: SettingWithCopyWarning: \n",
      "A value is trying to be set on a copy of a slice from a DataFrame\n",
      "\n",
      "See the caveats in the documentation: https://pandas.pydata.org/pandas-docs/stable/user_guide/indexing.html#returning-a-view-versus-a-copy\n",
      "  data_frame[columnName].iloc[index] = formated_str\n"
     ]
    }
   ],
   "source": [
    "print(\"type initial des donnees est :\")\n",
    "get_columns_type(data_frame)\n",
    "print(\"nouveau type des donnes devient :\")\n",
    "data_frame = convertissement_Nece(data_frame)\n",
    "data_frame = replace_columns_type(data_frame,\"object\",\"float\")\n",
    "get_columns_type(data_frame)"
   ]
  },
  {
   "cell_type": "markdown",
   "id": "56b4857a",
   "metadata": {},
   "source": [
    "# division de dataEt0 en deux partie"
   ]
  },
  {
   "cell_type": "code",
   "execution_count": 13,
   "id": "5c481dc9",
   "metadata": {},
   "outputs": [
    {
     "data": {
      "text/plain": [
       "0       2.757991\n",
       "1              5\n",
       "2            5,3\n",
       "3            5,3\n",
       "4            5,5\n",
       "          ...   \n",
       "1776         0,6\n",
       "1777    2.757991\n",
       "1778    2.757991\n",
       "1779    2.757991\n",
       "1780    2.757991\n",
       "Name: ETP quotidien [mm], Length: 1781, dtype: object"
      ]
     },
     "execution_count": 13,
     "metadata": {},
     "output_type": "execute_result"
    }
   ],
   "source": [
    "df['ETP quotidien [mm]']"
   ]
  },
  {
   "cell_type": "code",
   "execution_count": 14,
   "id": "585892a7",
   "metadata": {},
   "outputs": [],
   "source": [
    "dt = data_frame.to_numpy()\n",
    "features = dt.shape[1]\n",
    "X,y = dt[:,:features - 1],dt[:,-1]\n",
    "X_train, X_test, y_train, y_test = train_test_split(X, y, test_size=0.2)"
   ]
  },
  {
   "cell_type": "markdown",
   "id": "39e67c69",
   "metadata": {},
   "source": [
    "# Random Forest"
   ]
  },
  {
   "cell_type": "code",
   "execution_count": 15,
   "id": "0c8b35a1",
   "metadata": {},
   "outputs": [
    {
     "name": "stdout",
     "output_type": "stream",
     "text": [
      "Le score du RandomForest modèle est:  -0.06719480362546845\n"
     ]
    }
   ],
   "source": [
    "pipeline = Pipeline([('StandarScaler', StandardScaler()),\n",
    "                  ('RandomForest',RandomForestRegressor())\n",
    "                  ])\n",
    "parameters = {\n",
    "              'RandomForest__n_estimators':np.arange(1,10,1),\n",
    "              'RandomForest__max_depth':np.arange(3,15,1)\n",
    "              }\n",
    "gridSearchCv = GridSearchCV(estimator = pipeline,cv = 5,scoring = 'neg_mean_squared_error',param_grid = parameters)                      # Grid search for n estimator and longuer d'arbre\n",
    "gridSearchCv.fit(X_train, y_train)\n",
    "randomForestModel = gridSearchCv.best_estimator_\n",
    "print(\"Le score du RandomForest modèle est: \",gridSearchCv.best_score_)\n",
    "\n"
   ]
  },
  {
   "cell_type": "markdown",
   "id": "5c35b727",
   "metadata": {},
   "source": [
    "# svr"
   ]
  },
  {
   "cell_type": "code",
   "execution_count": 16,
   "id": "87e3139b",
   "metadata": {},
   "outputs": [
    {
     "name": "stderr",
     "output_type": "stream",
     "text": [
      "C:\\Users\\ZenBook\\anaconda3\\lib\\site-packages\\sklearn\\model_selection\\_validation.py:372: FitFailedWarning: \n",
      "10 fits failed out of a total of 20.\n",
      "The score on these train-test partitions for these parameters will be set to nan.\n",
      "If these failures are not expected, you can try to debug them by setting error_score='raise'.\n",
      "\n",
      "Below are more details about the failures:\n",
      "--------------------------------------------------------------------------------\n",
      "10 fits failed with the following error:\n",
      "Traceback (most recent call last):\n",
      "  File \"C:\\Users\\ZenBook\\anaconda3\\lib\\site-packages\\sklearn\\model_selection\\_validation.py\", line 680, in _fit_and_score\n",
      "    estimator.fit(X_train, y_train, **fit_params)\n",
      "  File \"C:\\Users\\ZenBook\\anaconda3\\lib\\site-packages\\sklearn\\pipeline.py\", line 394, in fit\n",
      "    self._final_estimator.fit(Xt, y, **fit_params_last_step)\n",
      "  File \"C:\\Users\\ZenBook\\anaconda3\\lib\\site-packages\\sklearn\\svm\\_base.py\", line 255, in fit\n",
      "    fit(X, y, sample_weight, solver_type, kernel, random_seed=seed)\n",
      "  File \"C:\\Users\\ZenBook\\anaconda3\\lib\\site-packages\\sklearn\\svm\\_base.py\", line 315, in _dense_fit\n",
      "    ) = libsvm.fit(\n",
      "  File \"sklearn\\svm\\_libsvm.pyx\", line 189, in sklearn.svm._libsvm.fit\n",
      "ValueError: C <= 0\n",
      "\n",
      "  warnings.warn(some_fits_failed_message, FitFailedWarning)\n",
      "C:\\Users\\ZenBook\\anaconda3\\lib\\site-packages\\sklearn\\model_selection\\_search.py:969: UserWarning: One or more of the test scores are non-finite: [        nan         nan -0.08817126 -0.82608711]\n",
      "  warnings.warn(\n"
     ]
    },
    {
     "name": "stdout",
     "output_type": "stream",
     "text": [
      "Le score du modèle SVR est:  -0.0881712591419268\n"
     ]
    }
   ],
   "source": [
    "\n",
    "pipeline = Pipeline([\n",
    "                ('StandardScaler', StandardScaler()),\n",
    "                ('SVR', SVR(kernel=\"rbf\",gamma = 0.01))\n",
    "                ])\n",
    "parameters = {\n",
    "              'SVR__gamma': np.linspace(0.1,1,2),\n",
    "              'SVR__kernel':np.array([\"rbf\"]),\n",
    "              'SVR__C':np.linspace(0,1,2)\n",
    "              }\n",
    "gridSearchCv = GridSearchCV(estimator = pipeline,cv = 5,scoring = 'neg_mean_squared_error',param_grid = parameters)# Grid search for gamma\n",
    "gridSearchCv.fit(X_train, y_train)\n",
    "Model_SVR = gridSearchCv.best_estimator_\n",
    "print(\"Le score du modèle SVR est: \",gridSearchCv.best_score_)"
   ]
  },
  {
   "cell_type": "markdown",
   "id": "f967691e",
   "metadata": {},
   "source": [
    "# arbre de decision"
   ]
  },
  {
   "cell_type": "code",
   "execution_count": 17,
   "id": "9e9d431c",
   "metadata": {},
   "outputs": [
    {
     "name": "stdout",
     "output_type": "stream",
     "text": [
      "Le score du modèle Decision Tree est:  -0.11707530449472832\n"
     ]
    }
   ],
   "source": [
    "pipeline = Pipeline([('StandarScaler', StandardScaler()),\n",
    "                  ('DecisionTreeRegressor',DecisionTreeRegressor())\n",
    "                  ])\n",
    "parameters = {\n",
    "              'DecisionTreeRegressor__max_depth':np.arange(3,15,1)\n",
    "              }\n",
    "gridSearchCv = GridSearchCV(estimator = pipeline,cv = 5,scoring = 'neg_mean_squared_error',param_grid = parameters)# Grid search for longuer d'arbre\n",
    "gridSearchCv.fit(X_train, y_train)\n",
    "decisionTreeRegressor = gridSearchCv.best_estimator_\n",
    "\n",
    "print(\"Le score du modèle Decision Tree est: \",gridSearchCv.best_score_)"
   ]
  },
  {
   "cell_type": "markdown",
   "id": "30963023",
   "metadata": {},
   "source": [
    "# Non Linear regression"
   ]
  },
  {
   "cell_type": "code",
   "execution_count": 18,
   "id": "1518f034",
   "metadata": {},
   "outputs": [
    {
     "name": "stdout",
     "output_type": "stream",
     "text": [
      "Le score du modèle Reg Non Lineaire est:  -0.04907491014590085\n"
     ]
    }
   ],
   "source": [
    "pipeline = Pipeline([('StandarScaler', StandardScaler()),\n",
    "                  ('Polynomialfeatures', PolynomialFeatures(8)),\n",
    "                  ('LinearRegression',LinearRegression())\n",
    "                  ])\n",
    "parameters = {\n",
    "              'Polynomialfeatures__degree': np.arange(1,4,1),\n",
    "              }\n",
    "gridSearchCv = GridSearchCV(estimator = pipeline,cv = 5,scoring = 'neg_mean_squared_error',param_grid = parameters)\n",
    "gridSearchCv.fit(X_train, y_train)\n",
    "linearModel = gridSearchCv.best_estimator_\n",
    "\n",
    "print(\"Le score du modèle Reg Non Lineaire est: \",gridSearchCv.best_score_)"
   ]
  },
  {
   "cell_type": "code",
   "execution_count": 19,
   "id": "4969f03c",
   "metadata": {},
   "outputs": [],
   "source": [
    "def calcul_des_metriques(model,modelName,y,ypred):\n",
    "  error_Moyenne = mean_squared_error(y,ypred)\n",
    "  error_Absolue = mean_absolute_error(y,ypred)\n",
    "  print(\"L'erreur moyenne {} est {:.2f}\".format(modelName,error_Moyenne))\n",
    "  print(\"L'erreur absolue {} est {:.2f}\".format(modelName,error_Absolue))\n",
    "  return error_Moyenne"
   ]
  },
  {
   "cell_type": "code",
   "execution_count": 20,
   "id": "0e743c45",
   "metadata": {},
   "outputs": [
    {
     "name": "stdout",
     "output_type": "stream",
     "text": [
      "L'erreur moyenne Arbre de decision est 0.13\n",
      "L'erreur absolue Arbre de decision est 0.23\n",
      "L'erreur moyenne Modèle SVR est 0.11\n",
      "L'erreur absolue Modèle SVR est 0.16\n",
      "L'erreur moyenne Regression Non Lineaire  est 0.03\n",
      "L'erreur absolue Regression Non Lineaire  est 0.14\n",
      "L'erreur moyenne Random Forest est 0.07\n",
      "L'erreur absolue Random Forest est 0.18\n"
     ]
    }
   ],
   "source": [
    "errorDecision = calcul_des_metriques(decisionTreeRegressor,\"Arbre de decision\",y_test,decisionTreeRegressor.predict(X_test))\n",
    "erreur_SVR = calcul_des_metriques(Model_SVR,\"Modèle SVR\",y_test,Model_SVR.predict(X_test))\n",
    "error_Model_lineair = calcul_des_metriques(linearModel,\"Regression Non Lineaire \",y_test,linearModel.predict(X_test))\n",
    "error_Random_forest = calcul_des_metriques(randomForestModel,\"Random Forest\",y_test,randomForestModel.predict(X_test))"
   ]
  },
  {
   "cell_type": "code",
   "execution_count": 21,
   "id": "714c2798",
   "metadata": {},
   "outputs": [
    {
     "name": "stdout",
     "output_type": "stream",
     "text": [
      " Regression Non Lineaire le meilleur model avec une erreur 0.0312753289390887\n"
     ]
    },
    {
     "name": "stderr",
     "output_type": "stream",
     "text": [
      "C:\\Users\\ZenBook\\AppData\\Local\\Temp\\ipykernel_21084\\682752848.py:1: VisibleDeprecationWarning: Creating an ndarray from ragged nested sequences (which is a list-or-tuple of lists-or-tuples-or ndarrays with different lengths or shapes) is deprecated. If you meant to do this, you must specify 'dtype=object' when creating the ndarray.\n",
      "  erreur_de_donnee = np.array([[\"SVR\",erreur_SVR,Model_SVR],[\"Regression Non Lineaire\",error_Model_lineair,linearModel],[\"Random Forest\",error_Random_forest,randomForestModel],[\"Arbre de decision\",errorDecision,decisionTreeRegressor]])\n"
     ]
    }
   ],
   "source": [
    "erreur_de_donnee = np.array([[\"SVR\",erreur_SVR,Model_SVR],[\"Regression Non Lineaire\",error_Model_lineair,linearModel],[\"Random Forest\",error_Random_forest,randomForestModel],[\"Arbre de decision\",errorDecision,decisionTreeRegressor]])\n",
    "erreur_minimal = np.argmin(erreur_de_donnee[:,1])\n",
    "meilleur_Model = erreur_de_donnee[erreur_minimal,2]\n",
    "print(f\" {erreur_de_donnee[erreur_minimal,0]} le meilleur model avec une erreur {erreur_de_donnee[1,erreur_minimal]}\")"
   ]
  },
  {
   "cell_type": "markdown",
   "id": "c362632d",
   "metadata": {},
   "source": [
    "# Plot"
   ]
  },
  {
   "cell_type": "code",
   "execution_count": 22,
   "id": "536d588d",
   "metadata": {},
   "outputs": [
    {
     "name": "stdout",
     "output_type": "stream",
     "text": [
      "L'erreur moyenne Modèle SVR est 0.11\n",
      "L'erreur absolue Modèle SVR est 0.16\n",
      "L'erreur moyenne Regression Non Lineaire par polynome est 0.03\n",
      "L'erreur absolue Regression Non Lineaire par polynome est 0.14\n",
      "L'erreur moyenne Random Forest est 0.07\n",
      "L'erreur absolue Random Forest est 0.18\n",
      "L'erreur moyenne Arbre de decision est 0.13\n",
      "L'erreur absolue Arbre de decision est 0.23\n"
     ]
    },
    {
     "data": {
      "image/png": "[encoded data removed]",
      "text/plain": [
       "<Figure size 432x288 with 1 Axes>"
      ]
     },
     "metadata": {
      "needs_background": "light"
     },
     "output_type": "display_data"
    }
   ],
   "source": [
    "error_Moyenne = []\n",
    "error_Moyenne.append(calcul_des_metriques(Model_SVR,\"Modèle SVR\",y_test,Model_SVR.predict(X_test)))\n",
    "error_Moyenne.append(calcul_des_metriques(linearModel,\"Regression Non Lineaire par polynome\",y_test,linearModel.predict(X_test)))\n",
    "error_Moyenne.append(calcul_des_metriques(randomForestModel,\"Random Forest\",y_test,randomForestModel.predict(X_test)))\n",
    "error_Moyenne.append(calcul_des_metriques(decisionTreeRegressor,\"Arbre de decision\",y_test,decisionTreeRegressor.predict(X_test)))\n",
    "\n",
    "model_names = [\" SVR\", \"Reg N-Lin \", \"R-Forest\", \"Arbre-decision\"]\n",
    "\n",
    "plt.bar(model_names, error_Moyenne, color=\"blue\")\n",
    "plt.xlabel('Models')\n",
    "plt.ylabel('Mediane Squared Error')\n",
    "\n",
    "plt.show()"
   ]
  },
  {
   "cell_type": "code",
   "execution_count": 23,
   "id": "15388d66",
   "metadata": {},
   "outputs": [],
   "source": [
    "import os\n",
    "try:\n",
    "  import pickle\n",
    "except:\n",
    "  os.system(\"pip install pickle-mixin\")\n",
    "  import pickle"
   ]
  },
  {
   "cell_type": "code",
   "execution_count": 24,
   "id": "95126207",
   "metadata": {},
   "outputs": [],
   "source": [
    "pickle.dump(meilleur_Model,open(\"mymodel.pckl\",\"wb\"))"
   ]
  },
  {
   "cell_type": "markdown",
   "id": "96f1cd7b",
   "metadata": {},
   "source": [
    "# GUI Interface"
   ]
  },
  {
   "cell_type": "code",
   "execution_count": 25,
   "id": "1686741f",
   "metadata": {},
   "outputs": [],
   "source": [
    "import tkinter as tk\n",
    "from PIL import Image, ImageTk\n",
    "\n",
    "def on_submit():\n",
    "    values = [value_1.get(), value_2.get(), value_3.get(), value_4.get(), value_5.get(),\n",
    "              value_6.get(), value_7.get(), value_8.get(), value_9.get(), value_10.get(),\n",
    "              value_11.get(), value_12.get(), value_13.get(), value_14.get(), value_15.get()]\n",
    "    input_values = values\n",
    "    input_values = np.array(input_values).reshape(1,-1)\n",
    "    prediction = linearModel.predict(input_values)\n",
    "    result_label.config(text=\"la prediction est: \" + str(prediction))\n",
    "   \n",
    "\n",
    "def on_reset():\n",
    "    value_1.delete(0, tk.END)\n",
    "    value_2.delete(0, tk.END)\n",
    "    value_3.delete(0, tk.END)\n",
    "    value_4.delete(0, tk.END)\n",
    "    value_5.delete(0, tk.END)\n",
    "    value_6.delete(0, tk.END)\n",
    "    value_7.delete(0, tk.END)\n",
    "    value_8.delete(0, tk.END)\n",
    "    value_9.delete(0, tk.END)\n",
    "    value_10.delete(0, tk.END)\n",
    "    value_11.delete(0, tk.END)\n",
    "    value_12.delete(0, tk.END)\n",
    "    value_13.delete(0, tk.END)\n",
    "    value_14.delete(0, tk.END)\n",
    "    value_15.delete(0, tk.END)\n",
    "   \n",
    "   \n",
    "\n",
    "root = tk.Tk()\n",
    "root.title(\"prediction  \")\n",
    "\n",
    "# Create labels\n",
    "label_1 = tk.Label(root, text=\"moy_Temp[°C]:\")\n",
    "label_2 = tk.Label(root, text=\"max_Temp[°C]:\")\n",
    "label_3 = tk.Label(root, text=\"min_Temp[°C]:\")\n",
    "label_4 = tk.Label(root, text=\"moy_DewPoint[°C]:\")\n",
    "label_5 = tk.Label(root, text=\"min_DewPoint[°C]:\")\n",
    "label_6 = tk.Label(root, text=\"moy_SolarRadiation[W/m2]:\")\n",
    "label_7 = tk.Label(root, text=\"moy_VPD[kPa]:\")\n",
    "label_8 = tk.Label(root, text=\"min_VPD[kPa]:\")\n",
    "label_9 = tk.Label(root, text=\"moy_RelativeHumidity[%]:\")\n",
    "label_10 = tk.Label(root, text=\"max_RelativeHumidity[%]:\")\n",
    "label_11 = tk.Label(root, text=\"min_RelativeHumidity[%]:\")\n",
    "label_12 = tk.Label(root, text=\"Somme_Precipitation[mm]:\")\n",
    "label_13 = tk.Label(root, text=\"moy_WindSpeed[m/s]:\")\n",
    "label_14 = tk.Label(root, text=\"max_WindSpeed[m/s]:\")\n",
    "label_15 = tk.Label(root, text=\"max_WindSpeedMax[m/s]:\")\n",
    "label_16 = tk.Label(root, text=\"moy_WindDirection[deg]:\")\n",
    "\n",
    "\n",
    "value_1 = tk.Entry(root)\n",
    "value_2 = tk.Entry(root)\n",
    "value_3 = tk.Entry(root)\n",
    "value_4 = tk.Entry(root)\n",
    "value_5 = tk.Entry(root)\n",
    "value_6 = tk.Entry(root)\n",
    "value_7 = tk.Entry(root)\n",
    "value_8 = tk.Entry(root)\n",
    "value_9 = tk.Entry(root)\n",
    "value_10 = tk.Entry(root)\n",
    "value_11 = tk.Entry(root)\n",
    "value_12 = tk.Entry(root)\n",
    "value_13 = tk.Entry(root)\n",
    "value_14 = tk.Entry(root)\n",
    "value_15 = tk.Entry(root)\n",
    "\n",
    "label_1.grid(row=0, column=0)\n",
    "value_1.grid(row=0, column=1)\n",
    "label_2.grid(row=1, column=0)\n",
    "value_2.grid(row=1, column=1)\n",
    "label_3.grid(row=2, column=0)\n",
    "value_3.grid(row=2, column=1)\n",
    "label_4.grid(row=3, column=0)\n",
    "value_4.grid(row=3, column=1)\n",
    "label_5.grid(row=4, column=0)\n",
    "value_5.grid(row=4, column=1)\n",
    "label_6.grid(row=5, column=0)\n",
    "value_6.grid(row=5, column=1)\n",
    "label_7.grid(row=6, column=0)\n",
    "value_7.grid(row=6, column=1)\n",
    "label_8.grid(row=7, column=0)\n",
    "value_8.grid(row=7, column=1)\n",
    "label_9.grid(row=8, column=0)\n",
    "value_9.grid(row=8, column=1)\n",
    "label_10.grid(row=9, column=0)\n",
    "value_10.grid(row=9, column=1)\n",
    "label_11.grid(row=10, column=0)\n",
    "value_11.grid(row=10, column=1)\n",
    "label_12.grid(row=11, column=0)\n",
    "value_12.grid(row=11, column=1)\n",
    "label_13.grid(row=12, column=0)\n",
    "value_13.grid(row=12, column=1)\n",
    "label_14.grid(row=13, column=0)\n",
    "value_14.grid(row=13, column=1)\n",
    "label_15.grid(row=14, column=0)\n",
    "value_15.grid(row=14, column=1)\n",
    "root.geometry(\"500x300\")\n",
    "\n",
    "result_label = tk.Label(root, text=\"prediction: \")\n",
    "\n",
    "submit_button = tk.Button(root, text=\"Submit\", command=on_submit)\n",
    "reset_button = tk.Button(root, text=\"Reset\", command=on_reset)\n",
    "\n",
    "result_label.grid(row=20, column=0)\n",
    "\n",
    "submit_button.grid(row=19, column=0)\n",
    "reset_button.grid(row=19, column=1)\n",
    "\n",
    "\n",
    "   \n",
    "\n",
    "submit_button.grid(row=19, column=0)\n",
    "root.mainloop()"
   ]
  },
  {
   "cell_type": "code",
   "execution_count": null,
   "id": "73c19720",
   "metadata": {},
   "outputs": [],
   "source": []
  }
 ],
 "metadata": {
  "kernelspec": {
   "display_name": "Python 3 (ipykernel)",
   "language": "python",
   "name": "python3"
  },
  "language_info": {
   "codemirror_mode": {
    "name": "ipython",
    "version": 3
   },
   "file_extension": ".py",
   "mimetype": "text/x-python",
   "name": "python",
   "nbconvert_exporter": "python",
   "pygments_lexer": "ipython3",
   "version": "3.9.12"
  }
 },
 "nbformat": 4,
 "nbformat_minor": 5
}
